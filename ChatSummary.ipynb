{
  "nbformat": 4,
  "nbformat_minor": 0,
  "metadata": {
    "colab": {
      "provenance": [],
      "include_colab_link": true
    },
    "kernelspec": {
      "name": "python3",
      "display_name": "Python 3"
    },
    "language_info": {
      "name": "python"
    }
  },
  "cells": [
    {
      "cell_type": "markdown",
      "metadata": {
        "id": "view-in-github",
        "colab_type": "text"
      },
      "source": [
        "<a href=\"https://colab.research.google.com/github/JulianHazell/ChatGPTSummary/blob/main/ChatSummary.ipynb\" target=\"_parent\"><img src=\"https://colab.research.google.com/assets/colab-badge.svg\" alt=\"Open In Colab\"/></a>"
      ]
    },
    {
      "cell_type": "code",
      "source": [
        "# Run this first\n",
        "\n",
        "!pip install openai"
      ],
      "metadata": {
        "id": "UH0Chi-MmHU7"
      },
      "execution_count": null,
      "outputs": []
    },
    {
      "cell_type": "code",
      "source": [
        "import os\n",
        "import openai\n",
        "import re\n",
        "\n",
        "# Set up OpenAI API key\n",
        "openai.api_key = \"INSERT KEY HERE\"\n",
        "\n",
        "# Open the text file you want to summarise\n",
        "with open('INSERT .TXT FILE HERE', 'r') as f:\n",
        "    words = re.findall('\\S+', f.read())\n",
        "\n",
        "# Set how big you want the chunks that are fed into Chat GPT to be, in terms of words\n",
        "# So for example, setting this to 500 means it will split the document into chunks of 500 words, and then each of those chunks will have its own summary\n",
        "chunk_size = 1000\n",
        "\n",
        "# Set how long you want ChatGPT to make the summary of each chunk, in terms of words\n",
        "word_size = 120\n",
        "\n",
        "# Loop through the text, and split the entire document into multiple text chunks determined by chunk_size\n",
        "chunks = [words[i:i+chunk_size] for i in range(0, len(words), chunk_size)]\n",
        "\n",
        "# Initialize list to store summary paragraphs\n",
        "summary_paragraphs = []\n",
        "\n",
        "# Loop through word chunks and generate summaries\n",
        "for chunk in chunks:\n",
        "    completion = openai.ChatCompletion.create(\n",
        "      model=\"gpt-3.5-turbo\",\n",
        "      messages=[\n",
        "        {\"role\": \"system\", \"content\": \"You're a 140 IQ science communicator. Your job is to summarise text, making sure to focus on the most important details. Make sure your summaries are highly detailed and comprehensive. Do not miss any key details.\"},\n",
        "        {\"role\": \"user\", \"content\": f\"Summarise the following text: {chunk} Do so in less than {word_size} words.\"}],\n",
        "      \n",
        "      # Set the temperature of the model, from 0 to 1.\n",
        "      # For temperature, higher values like 0.8 will make the output more random, while lower values like 0.2 will make it more focused and deterministic. \n",
        "      temperature = 0.5\n",
        "    )\n",
        "    \n",
        "    # Print the summary for that chunk\n",
        "    print(completion.choices[0].message.content)\n",
        "\n",
        "    # Append this summary to the summary_paragraphs list\n",
        "    summary_paragraphs.append(completion.choices[0].message.content)\n",
        "\n",
        "# Create a string of all of the chunk summaries\n",
        "joined_summaries = ''.join(summary_paragraphs)\n",
        "\n",
        "# Feed that string into Chat GPT to write one final summary of the entire piece, based on the summaries of each of the chunks\n",
        "completionFinal = openai.ChatCompletion.create(\n",
        "      model=\"gpt-3.5-turbo\",\n",
        "      messages=[\n",
        "        {\"role\": \"system\", \"content\": \"You're a 140 IQ science communicator. Your job is to summarise text, making sure to focus on the most important details. Make sure your summaries are highly detailed and comprehensive. Do not miss any key details. You can write multiple paragraphs if needed.\"},\n",
        "        {\"role\": \"user\", \"content\": f\"Summarise the following text, in multiple paragraphs if necessary: {joined_summaries}\"}]\n",
        "    )\n",
        "\n",
        "# Print the final summary\n",
        "final_summary = completionFinal.choices[0].message.content\n",
        "print (f\"The final summary: {final_summary}\")\n",
        "\n",
        "# Create a new text file to store the summaries\n",
        "with open('summaries.txt', 'w') as f:\n",
        "\n",
        "  # Write each summary paragraph to the text file\n",
        "  for summary in summary_paragraphs:\n",
        "    f.write(summary + '\\n\\n')\n",
        "\n",
        "  # Write the final summary to the text file\n",
        "  f.write(f\"The final summary: {final_summary}\")\n",
        "\n",
        "# Close the text file\n",
        "f.close()"
      ],
      "metadata": {
        "id": "8eJIvDbFTxeZ"
      },
      "execution_count": null,
      "outputs": []
    }
  ]
}